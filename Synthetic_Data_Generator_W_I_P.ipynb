{
  "nbformat": 4,
  "nbformat_minor": 0,
  "metadata": {
    "colab": {
      "name": "Synthetic Data Generator W.I.P.ipynb",
      "provenance": []
    },
    "kernelspec": {
      "name": "python3",
      "display_name": "Python 3"
    },
    "language_info": {
      "name": "python"
    }
  },
  "cells": [
    {
      "cell_type": "markdown",
      "metadata": {
        "id": "Y1G42ZrIEOC1"
      },
      "source": [
        "## Synthetic Data Generator\n",
        "\n",
        "This script generates synthetic customer (student) data based on our survery results. We generate a student pool large enough so that we can bootstroop (stochastic demand) for our optimization problem."
      ]
    },
    {
      "cell_type": "code",
      "metadata": {
        "id": "Ewy4G3YRCri0"
      },
      "source": [
        "import numpy as np\n",
        "import pandas as pd"
      ],
      "execution_count": null,
      "outputs": []
    },
    {
      "cell_type": "markdown",
      "metadata": {
        "id": "8aJkjp30GZUW"
      },
      "source": [
        "We import the survey results in the following cells."
      ]
    },
    {
      "cell_type": "code",
      "metadata": {
        "id": "PIdfrGTHC0IU"
      },
      "source": [
        "drink_values_reg = [i for i in range(7)]\n",
        "food_values_reg = [0,1,2,3]\n",
        "\n",
        "beer_prob_reg = [0.1,0.1,0.3,0.3,0.15,0.03,0.02]\n",
        "nonalcohol_prob_reg = [0.1,0.1,0.2,0.35,0.2,0.03,0.02]\n",
        "\n",
        "burger_prob_reg = [0.4,0.3,0.2,0.1]\n",
        "hotdog_prob_reg = [0.3,0.4,0.2,0.1]"
      ],
      "execution_count": null,
      "outputs": []
    },
    {
      "cell_type": "code",
      "metadata": {
        "id": "Nnaz6KGTC2I2"
      },
      "source": [
        "drink_values_crz = [2*i for i in range(7)]\n",
        "food_values_crz = [0,2,4,6]\n",
        "\n",
        "beer_prob_crz = [0.05,0.05,0.1,0.15,0.15,0.3,0.2]\n",
        "nonalcohol_prob_crz = [0.2,0.1,0.4,0.2,0.05,0.03,0.02]\n",
        "\n",
        "burger_prob_crz = [0.4,0.3,0.2,0.1]\n",
        "hotdog_prob_crz = [0.3,0.4,0.2,0.1]"
      ],
      "execution_count": null,
      "outputs": []
    },
    {
      "cell_type": "code",
      "metadata": {
        "id": "jfRHrH1KC9Br"
      },
      "source": [
        "time_window_values = [1,0]\n",
        "time_window1_prob_reg = [0.3,0.7]\n",
        "time_window2_prob_reg = [0.45,0.55]\n",
        "time_window3_prob_reg = [0.75,0.25]"
      ],
      "execution_count": null,
      "outputs": []
    },
    {
      "cell_type": "code",
      "metadata": {
        "id": "Fp_J1Mz3EH7s"
      },
      "source": [
        "time_window1_prob_crz = [0.6,0.4]\n",
        "time_window2_prob_crz = [0.75,0.25]\n",
        "time_window3_prob_crz = [0.9,0.1]"
      ],
      "execution_count": null,
      "outputs": []
    },
    {
      "cell_type": "code",
      "metadata": {
        "id": "dPke9EZbG4u5"
      },
      "source": [
        ""
      ],
      "execution_count": null,
      "outputs": []
    },
    {
      "cell_type": "code",
      "metadata": {
        "id": "hLblXc09CyQP"
      },
      "source": [
        "def discrete_prob_generator(values, probabilities, size):\n",
        "    \n",
        "    res = np.random.choice(values, size, p=probabilities)\n",
        "    \n",
        "    return res"
      ],
      "execution_count": null,
      "outputs": []
    },
    {
      "cell_type": "code",
      "metadata": {
        "id": "LIedUsW_G5cY"
      },
      "source": [
        "n = 1950\n",
        "df_students_reg = pd.DataFrame(index=np.arange(n), columns=[\"BEER\"])\n",
        "\n",
        "df_students_reg[\"BEER\"] = discrete_prob_generator(drink_values_reg,beer_prob_reg, n)\n",
        "df_students_reg[\"NONALCOHOL\"] = discrete_prob_generator(drink_values_reg,nonalcohol_prob_reg, n)\n",
        "df_students_reg[\"BURGER\"] = discrete_prob_generator(food_values_reg,burger_prob_reg, n)\n",
        "df_students_reg[\"HOTDOG\"] = discrete_prob_generator(food_values_reg,hotdog_prob_reg, n)\n",
        "df_students_reg[\"TW1\"] = discrete_prob_generator(time_window_values,time_window1_prob_reg, n)\n",
        "df_students_reg[\"TW2\"] = discrete_prob_generator(time_window_values,time_window2_prob_reg, n)\n",
        "df_students_reg[\"TW3\"] = discrete_prob_generator(time_window_values,time_window3_prob_reg, n)"
      ],
      "execution_count": null,
      "outputs": []
    },
    {
      "cell_type": "code",
      "metadata": {
        "colab": {
          "base_uri": "https://localhost:8080/",
          "height": 204
        },
        "id": "8ssYZFTUHkng",
        "outputId": "71a9e7cf-34f1-4c42-9982-7c9882e8bdc5"
      },
      "source": [
        "df_students_reg.head(5)"
      ],
      "execution_count": null,
      "outputs": [
        {
          "output_type": "execute_result",
          "data": {
            "text/html": [
              "<div>\n",
              "<style scoped>\n",
              "    .dataframe tbody tr th:only-of-type {\n",
              "        vertical-align: middle;\n",
              "    }\n",
              "\n",
              "    .dataframe tbody tr th {\n",
              "        vertical-align: top;\n",
              "    }\n",
              "\n",
              "    .dataframe thead th {\n",
              "        text-align: right;\n",
              "    }\n",
              "</style>\n",
              "<table border=\"1\" class=\"dataframe\">\n",
              "  <thead>\n",
              "    <tr style=\"text-align: right;\">\n",
              "      <th></th>\n",
              "      <th>BEER</th>\n",
              "      <th>NONALCOHOL</th>\n",
              "      <th>BURGER</th>\n",
              "      <th>HOTDOG</th>\n",
              "      <th>TW1</th>\n",
              "      <th>TW2</th>\n",
              "      <th>TW3</th>\n",
              "    </tr>\n",
              "  </thead>\n",
              "  <tbody>\n",
              "    <tr>\n",
              "      <th>0</th>\n",
              "      <td>3</td>\n",
              "      <td>0</td>\n",
              "      <td>1</td>\n",
              "      <td>2</td>\n",
              "      <td>0</td>\n",
              "      <td>0</td>\n",
              "      <td>1</td>\n",
              "    </tr>\n",
              "    <tr>\n",
              "      <th>1</th>\n",
              "      <td>4</td>\n",
              "      <td>4</td>\n",
              "      <td>2</td>\n",
              "      <td>2</td>\n",
              "      <td>0</td>\n",
              "      <td>1</td>\n",
              "      <td>1</td>\n",
              "    </tr>\n",
              "    <tr>\n",
              "      <th>2</th>\n",
              "      <td>4</td>\n",
              "      <td>3</td>\n",
              "      <td>3</td>\n",
              "      <td>1</td>\n",
              "      <td>1</td>\n",
              "      <td>0</td>\n",
              "      <td>1</td>\n",
              "    </tr>\n",
              "    <tr>\n",
              "      <th>3</th>\n",
              "      <td>3</td>\n",
              "      <td>3</td>\n",
              "      <td>2</td>\n",
              "      <td>0</td>\n",
              "      <td>0</td>\n",
              "      <td>0</td>\n",
              "      <td>1</td>\n",
              "    </tr>\n",
              "    <tr>\n",
              "      <th>4</th>\n",
              "      <td>4</td>\n",
              "      <td>4</td>\n",
              "      <td>1</td>\n",
              "      <td>1</td>\n",
              "      <td>0</td>\n",
              "      <td>0</td>\n",
              "      <td>1</td>\n",
              "    </tr>\n",
              "  </tbody>\n",
              "</table>\n",
              "</div>"
            ],
            "text/plain": [
              "   BEER  NONALCOHOL  BURGER  HOTDOG  TW1  TW2  TW3\n",
              "0     3           0       1       2    0    0    1\n",
              "1     4           4       2       2    0    1    1\n",
              "2     4           3       3       1    1    0    1\n",
              "3     3           3       2       0    0    0    1\n",
              "4     4           4       1       1    0    0    1"
            ]
          },
          "metadata": {
            "tags": []
          },
          "execution_count": 43
        }
      ]
    },
    {
      "cell_type": "code",
      "metadata": {
        "id": "BOAeikKJKWdT"
      },
      "source": [
        "m = 3000 - n\n",
        "df_students_crz = pd.DataFrame(index=np.arange(m), columns=[\"BEER\"])\n",
        "\n",
        "df_students_crz[\"BEER\"] = discrete_prob_generator(drink_values_crz,beer_prob_crz, m)\n",
        "df_students_crz[\"NONALCOHOL\"] = discrete_prob_generator(drink_values_crz,nonalcohol_prob_crz, m)\n",
        "df_students_crz[\"BURGER\"] = discrete_prob_generator(food_values_crz,burger_prob_crz, m)\n",
        "df_students_crz[\"HOTDOG\"] = discrete_prob_generator(food_values_crz,hotdog_prob_crz, m)\n",
        "df_students_crz[\"TW1\"] = discrete_prob_generator(time_window_values,time_window1_prob_crz, m)\n",
        "df_students_crz[\"TW2\"] = discrete_prob_generator(time_window_values,time_window2_prob_crz, m)\n",
        "df_students_crz[\"TW3\"] = discrete_prob_generator(time_window_values,time_window3_prob_crz, m)"
      ],
      "execution_count": null,
      "outputs": []
    },
    {
      "cell_type": "code",
      "metadata": {
        "colab": {
          "base_uri": "https://localhost:8080/",
          "height": 204
        },
        "id": "ipT6ijquMw0e",
        "outputId": "741f0321-d539-49a6-8d32-13752e31ecbb"
      },
      "source": [
        "df_students_crz.head(5)"
      ],
      "execution_count": null,
      "outputs": [
        {
          "output_type": "execute_result",
          "data": {
            "text/html": [
              "<div>\n",
              "<style scoped>\n",
              "    .dataframe tbody tr th:only-of-type {\n",
              "        vertical-align: middle;\n",
              "    }\n",
              "\n",
              "    .dataframe tbody tr th {\n",
              "        vertical-align: top;\n",
              "    }\n",
              "\n",
              "    .dataframe thead th {\n",
              "        text-align: right;\n",
              "    }\n",
              "</style>\n",
              "<table border=\"1\" class=\"dataframe\">\n",
              "  <thead>\n",
              "    <tr style=\"text-align: right;\">\n",
              "      <th></th>\n",
              "      <th>BEER</th>\n",
              "      <th>NONALCOHOL</th>\n",
              "      <th>BURGER</th>\n",
              "      <th>HOTDOG</th>\n",
              "      <th>TW1</th>\n",
              "      <th>TW2</th>\n",
              "      <th>TW3</th>\n",
              "    </tr>\n",
              "  </thead>\n",
              "  <tbody>\n",
              "    <tr>\n",
              "      <th>0</th>\n",
              "      <td>4</td>\n",
              "      <td>4</td>\n",
              "      <td>0</td>\n",
              "      <td>0</td>\n",
              "      <td>0</td>\n",
              "      <td>0</td>\n",
              "      <td>0</td>\n",
              "    </tr>\n",
              "    <tr>\n",
              "      <th>1</th>\n",
              "      <td>10</td>\n",
              "      <td>10</td>\n",
              "      <td>2</td>\n",
              "      <td>2</td>\n",
              "      <td>0</td>\n",
              "      <td>0</td>\n",
              "      <td>1</td>\n",
              "    </tr>\n",
              "    <tr>\n",
              "      <th>2</th>\n",
              "      <td>6</td>\n",
              "      <td>4</td>\n",
              "      <td>0</td>\n",
              "      <td>0</td>\n",
              "      <td>0</td>\n",
              "      <td>0</td>\n",
              "      <td>1</td>\n",
              "    </tr>\n",
              "    <tr>\n",
              "      <th>3</th>\n",
              "      <td>8</td>\n",
              "      <td>4</td>\n",
              "      <td>0</td>\n",
              "      <td>2</td>\n",
              "      <td>0</td>\n",
              "      <td>1</td>\n",
              "      <td>1</td>\n",
              "    </tr>\n",
              "    <tr>\n",
              "      <th>4</th>\n",
              "      <td>2</td>\n",
              "      <td>4</td>\n",
              "      <td>0</td>\n",
              "      <td>2</td>\n",
              "      <td>0</td>\n",
              "      <td>1</td>\n",
              "      <td>1</td>\n",
              "    </tr>\n",
              "  </tbody>\n",
              "</table>\n",
              "</div>"
            ],
            "text/plain": [
              "   BEER  NONALCOHOL  BURGER  HOTDOG  TW1  TW2  TW3\n",
              "0     4           4       0       0    0    0    0\n",
              "1    10          10       2       2    0    0    1\n",
              "2     6           4       0       0    0    0    1\n",
              "3     8           4       0       2    0    1    1\n",
              "4     2           4       0       2    0    1    1"
            ]
          },
          "metadata": {
            "tags": []
          },
          "execution_count": 45
        }
      ]
    },
    {
      "cell_type": "code",
      "metadata": {
        "id": "0AF8F0oqNFbz"
      },
      "source": [
        "\n",
        "df_students = pd.concat([df_students_reg, df_students_crz], ignore_index=True)\n",
        "df_students = df_students[df_students.TW1 + df_students.TW2 + df_students.TW3 > 0]\n"
      ],
      "execution_count": null,
      "outputs": []
    },
    {
      "cell_type": "code",
      "metadata": {
        "id": "QxcbvpmONlJj"
      },
      "source": [
        "df_students.to_csv(\"students.csv\")"
      ],
      "execution_count": null,
      "outputs": []
    },
    {
      "cell_type": "code",
      "metadata": {
        "id": "mmBLOY5t9JQt"
      },
      "source": [
        ""
      ],
      "execution_count": null,
      "outputs": []
    }
  ]
}