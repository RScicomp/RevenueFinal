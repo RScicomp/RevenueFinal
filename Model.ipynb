{
  "nbformat": 4,
  "nbformat_minor": 0,
  "metadata": {
    "colab": {
      "name": "Model",
      "provenance": []
    },
    "kernelspec": {
      "name": "python3",
      "display_name": "Python 3"
    },
    "language_info": {
      "name": "python"
    }
  },
  "cells": [
    {
      "cell_type": "code",
      "metadata": {
        "id": "-fZnlWPXh4Ps",
        "colab": {
          "base_uri": "https://localhost:8080/"
        },
        "outputId": "da2c1ba9-548f-43c8-cfb8-f218d4461c7c"
      },
      "source": [
        " pip install pulp"
      ],
      "execution_count": null,
      "outputs": [
        {
          "output_type": "stream",
          "text": [
            "Collecting pulp\n",
            "\u001b[?25l  Downloading https://files.pythonhosted.org/packages/14/c4/0eec14a0123209c261de6ff154ef3be5cad3fd557c084f468356662e0585/PuLP-2.4-py3-none-any.whl (40.6MB)\n",
            "\u001b[K     |████████████████████████████████| 40.6MB 105kB/s \n",
            "\u001b[?25hCollecting amply>=0.1.2\n",
            "  Downloading https://files.pythonhosted.org/packages/f3/c5/dfa09dd2595a2ab2ab4e6fa7bebef9565812722e1980d04b0edce5032066/amply-0.1.4-py3-none-any.whl\n",
            "Requirement already satisfied: pyparsing in /usr/local/lib/python3.7/dist-packages (from amply>=0.1.2->pulp) (2.4.7)\n",
            "Requirement already satisfied: docutils>=0.3 in /usr/local/lib/python3.7/dist-packages (from amply>=0.1.2->pulp) (0.17)\n",
            "Installing collected packages: amply, pulp\n",
            "Successfully installed amply-0.1.4 pulp-2.4\n"
          ],
          "name": "stdout"
        }
      ]
    },
    {
      "cell_type": "code",
      "metadata": {
        "id": "OdFs-AagOKAV"
      },
      "source": [
        "import pandas as pd\n",
        "import numpy as np\n",
        "\n",
        "import pulp as plp"
      ],
      "execution_count": null,
      "outputs": []
    },
    {
      "cell_type": "code",
      "metadata": {
        "id": "KsFE62x-PWya",
        "colab": {
          "base_uri": "https://localhost:8080/",
          "height": 142
        },
        "outputId": "a2fd2ff6-ce7a-43d4-bcae-8790d356b1f6"
      },
      "source": [
        "url = 'https://github.com/tipsytc/RevenueManagement/blob/main/students.csv?raw=true'\n",
        "df = pd.read_csv(url, index_col=0)\n",
        "df.head(3)\n"
      ],
      "execution_count": null,
      "outputs": [
        {
          "output_type": "execute_result",
          "data": {
            "text/html": [
              "<div>\n",
              "<style scoped>\n",
              "    .dataframe tbody tr th:only-of-type {\n",
              "        vertical-align: middle;\n",
              "    }\n",
              "\n",
              "    .dataframe tbody tr th {\n",
              "        vertical-align: top;\n",
              "    }\n",
              "\n",
              "    .dataframe thead th {\n",
              "        text-align: right;\n",
              "    }\n",
              "</style>\n",
              "<table border=\"1\" class=\"dataframe\">\n",
              "  <thead>\n",
              "    <tr style=\"text-align: right;\">\n",
              "      <th></th>\n",
              "      <th>BEER</th>\n",
              "      <th>NONALCOHOL</th>\n",
              "      <th>BURGER</th>\n",
              "      <th>HOTDOG</th>\n",
              "      <th>TW1</th>\n",
              "      <th>TW2</th>\n",
              "      <th>TW3</th>\n",
              "    </tr>\n",
              "  </thead>\n",
              "  <tbody>\n",
              "    <tr>\n",
              "      <th>0</th>\n",
              "      <td>3</td>\n",
              "      <td>0</td>\n",
              "      <td>1</td>\n",
              "      <td>2</td>\n",
              "      <td>0</td>\n",
              "      <td>0</td>\n",
              "      <td>1</td>\n",
              "    </tr>\n",
              "    <tr>\n",
              "      <th>1</th>\n",
              "      <td>4</td>\n",
              "      <td>4</td>\n",
              "      <td>2</td>\n",
              "      <td>2</td>\n",
              "      <td>0</td>\n",
              "      <td>1</td>\n",
              "      <td>1</td>\n",
              "    </tr>\n",
              "    <tr>\n",
              "      <th>2</th>\n",
              "      <td>4</td>\n",
              "      <td>3</td>\n",
              "      <td>3</td>\n",
              "      <td>1</td>\n",
              "      <td>1</td>\n",
              "      <td>0</td>\n",
              "      <td>1</td>\n",
              "    </tr>\n",
              "  </tbody>\n",
              "</table>\n",
              "</div>"
            ],
            "text/plain": [
              "   BEER  NONALCOHOL  BURGER  HOTDOG  TW1  TW2  TW3\n",
              "0     3           0       1       2    0    0    1\n",
              "1     4           4       2       2    0    1    1\n",
              "2     4           3       3       1    1    0    1"
            ]
          },
          "metadata": {
            "tags": []
          },
          "execution_count": 13
        }
      ]
    },
    {
      "cell_type": "markdown",
      "metadata": {
        "id": "lumPKXgxNNg-"
      },
      "source": [
        "## Baseline Revenue and Attendance\n",
        "Suppose the organizer has no prior knowledge of students' preferred time window. Revenue and attendance can be easily calculated. For the ease of calculation, we assume the students complete their intended purchases at the first time window they are admitted. The revenue and attendance will be referred as the baseline of our optimization model."
      ]
    },
    {
      "cell_type": "code",
      "metadata": {
        "id": "_1i_uCrwbAc1"
      },
      "source": [
        "item_list = [\"BEER\", \"NONALCOHOL\", \"BURGER\", \"HOTDOG\"]"
      ],
      "execution_count": null,
      "outputs": []
    },
    {
      "cell_type": "code",
      "metadata": {
        "id": "e06OCgC5N3tM"
      },
      "source": [
        "#We bootstrap a sample of size of 1500\n",
        "#since the theoretical max attendance is 1500\n",
        "\n",
        "sample = df.iloc[np.random.randint(1500, size=1500)].reset_index(drop = True)\n",
        "\n",
        "#add an ID column to keep track\n",
        "sample[\"STUDENT_ID\"] = np.array([i+1 for i in range(sample.shape[0])])\n",
        "\n",
        "#Binary indicator whether student is admitted in Time Window i\n",
        "sample[\"TW1AD\"] = 0\n",
        "sample[\"TW2AD\"] = 0\n",
        "sample[\"TW3AD\"] = 0"
      ],
      "execution_count": null,
      "outputs": []
    },
    {
      "cell_type": "code",
      "metadata": {
        "id": "rvOaqc2yQi2D"
      },
      "source": [
        "sample_tw1 = sample[sample.TW1 == 1].reset_index(drop = True)\n",
        "# sample_tw1.head(3)"
      ],
      "execution_count": null,
      "outputs": []
    },
    {
      "cell_type": "code",
      "metadata": {
        "id": "dXi-HdxyNcMg"
      },
      "source": [
        "capacity = 500\n",
        "item_ctr_dict = {\"BEER\":0, \"NONALCOHOL\":0, \"BURGER\":0, \"HOTDOG\":0}\n",
        "\n",
        "rev = 0\n",
        "admit_list = []"
      ],
      "execution_count": null,
      "outputs": []
    },
    {
      "cell_type": "code",
      "metadata": {
        "colab": {
          "base_uri": "https://localhost:8080/"
        },
        "id": "hVoJ9EPPRf3Z",
        "outputId": "870b3299-bfab-4e23-f274-63448f1a03c6"
      },
      "source": [
        "#Time Window 1\n",
        "\n",
        "tw1_ctr = 0\n",
        "\n",
        "for i in range(sample_tw1.shape[0]):\n",
        "  student = sample_tw1.iloc[i]\n",
        "  if capacity > 0:\n",
        "    capacity -= 1\n",
        "    tw1_ctr += 1\n",
        "    admit_list.append(student[\"STUDENT_ID\"])\n",
        "    sample.loc[sample[\"STUDENT_ID\"] == student[\"STUDENT_ID\"],\"TW1AD\"] = 1\n",
        "    sample.loc[sample[\"STUDENT_ID\"] == student[\"STUDENT_ID\"],\"TW2AD\"] = student[\"TW2\"]\n",
        "    for item in item_list:\n",
        "      item_ctr_dict[item] += student[item]\n",
        "      student[item] = 0\n",
        "\n",
        "#students admitted in TW1 and intended to stay in TW2 will stay\n",
        "sample.loc[(sample[\"TW1AD\"] == 1) & (sample[\"TW2\"] == 1), \"TW2AD\"] = 1\n",
        "carryover = sum(sample_tw1[\"TW2\"])\n",
        "\n",
        "print(\"Dring 12:00 - 3:00 (TW1): \" + str(sum(sample[\"TW1AD\"])) + \" were admitted, \" + str(sample_tw1.shape[0] - tw1_ctr) + \" were not admitted due to capacity limit.\")\n",
        "print(str(carryover) + \" of them are intended to stay during the next time window.\")\n",
        "print(\"Total sales:\")\n",
        "print(item_ctr_dict)"
      ],
      "execution_count": null,
      "outputs": [
        {
          "output_type": "stream",
          "text": [
            "Dring 12:00 - 3:00 (TW1): 500 were admitted, 41 were not admitted due to capacity limit.\n",
            "244 of them are intended to stay during the next time window.\n",
            "Total sales:\n",
            "{'BEER': 1192, 'NONALCOHOL': 1345, 'BURGER': 508, 'HOTDOG': 571}\n"
          ],
          "name": "stdout"
        }
      ]
    },
    {
      "cell_type": "code",
      "metadata": {
        "colab": {
          "base_uri": "https://localhost:8080/"
        },
        "id": "Wqb1_fOOVOj3",
        "outputId": "57661eb4-8f35-4a37-e9b1-b14ea526df10"
      },
      "source": [
        "#sample_tw2 excludes the students already admitted in TW1\n",
        "sample_tw2 = sample[(sample.TW2 == 1) & (sample.TW1AD == 0)].reset_index(drop = True)\n",
        "sample_tw2.shape"
      ],
      "execution_count": null,
      "outputs": [
        {
          "output_type": "execute_result",
          "data": {
            "text/plain": [
              "(504, 11)"
            ]
          },
          "metadata": {
            "tags": []
          },
          "execution_count": 19
        }
      ]
    },
    {
      "cell_type": "code",
      "metadata": {
        "colab": {
          "base_uri": "https://localhost:8080/"
        },
        "id": "pLuvChRSRTd9",
        "outputId": "f2ab587e-cb34-45f0-c2fb-332a5926533e"
      },
      "source": [
        "#we update the capacity by subtracting the carryover capacity\n",
        "capacity = 500 - carryover\n",
        "print(\"Available capacity at the beginning of TW2: \" + str(capacity))\n",
        "\n",
        "tw2_ctr = 0\n",
        "for i in range(sample_tw2.shape[0]):\n",
        "  student = sample_tw2.iloc[i]\n",
        "  if capacity > 0:\n",
        "    capacity -= 1\n",
        "    tw2_ctr += 1\n",
        "    admit_list.append(student[\"STUDENT_ID\"])\n",
        "    sample.loc[sample[\"STUDENT_ID\"] == student[\"STUDENT_ID\"],\"TW2AD\"] = 1\n",
        "    for item in item_list:\n",
        "      item_ctr_dict[item] += student[item]\n",
        "      student[item] = 0\n",
        "\n",
        "#students admitted in TW2 and intended to stay in TW3 will stay\n",
        "sample.loc[(sample[\"TW2AD\"] == 1) & (sample[\"TW3\"] == 1), \"TW3AD\"] = 1\n",
        "carryover = sum(sample[sample[\"TW2AD\"] == 1][\"TW3\"])\n",
        "\n",
        "print(\"Dring 3:00 - 6:00 (TW2): \" + str(tw2_ctr) + \" were admitted, \" + str(sample_tw2.shape[0] - tw2_ctr) + \" were not admitted due to capacity limit.\")\n",
        "print(str(carryover) + \" of them are intended to stay during the next time window.\")\n",
        "print(\"Total sales:\")\n",
        "print(item_ctr_dict)"
      ],
      "execution_count": null,
      "outputs": [
        {
          "output_type": "stream",
          "text": [
            "Available capacity at the beginning of TW2: 256\n",
            "Dring 3:00 - 6:00 (TW2): 256 were admitted, 248 were not admitted due to capacity limit.\n",
            "365 of them are intended to stay during the next time window.\n",
            "Total sales:\n",
            "{'BEER': 1804, 'NONALCOHOL': 2021, 'BURGER': 788, 'HOTDOG': 864}\n"
          ],
          "name": "stdout"
        }
      ]
    },
    {
      "cell_type": "code",
      "metadata": {
        "colab": {
          "base_uri": "https://localhost:8080/"
        },
        "id": "oJw_KKhdYi1x",
        "outputId": "0ddddd5b-cd2a-4b0c-a016-92220728e7a9"
      },
      "source": [
        "#sample_tw3 excludes the students already admitted in TW1&TW2\n",
        "sample_tw3 = sample[(sample.TW3 == 1) & (sample.TW2AD == 0)].reset_index(drop = True)\n",
        "sample_tw3.shape"
      ],
      "execution_count": null,
      "outputs": [
        {
          "output_type": "execute_result",
          "data": {
            "text/plain": [
              "(874, 11)"
            ]
          },
          "metadata": {
            "tags": []
          },
          "execution_count": 21
        }
      ]
    },
    {
      "cell_type": "code",
      "metadata": {
        "colab": {
          "base_uri": "https://localhost:8080/"
        },
        "id": "wsZmV5z-ZuFX",
        "outputId": "24ee7020-470e-4646-c06b-e7cb06c66362"
      },
      "source": [
        "#we update the capacity by subtracting the carryover capacity\n",
        "capacity = 500 - carryover\n",
        "print(\"Available capacity at the beginning of TW3: \" + str(capacity))\n",
        "\n",
        "tw3_ctr = 0\n",
        "for i in range(sample_tw3.shape[0]):\n",
        "  student = sample_tw3.iloc[i]\n",
        "  if capacity > 0:\n",
        "    capacity -= 1\n",
        "    tw3_ctr += 1\n",
        "    admit_list.append(student[\"STUDENT_ID\"])\n",
        "    sample.loc[sample[\"STUDENT_ID\"] == student[\"STUDENT_ID\"],\"TW3AD\"] = 1\n",
        "    for item in item_list:\n",
        "      item_ctr_dict[item] += student[item]\n",
        "      student[item] = 0\n",
        "\n",
        "print(\"Dring 3:00 - 6:00 (TW2): \" + str(tw3_ctr) + \" were admitted, \" + str(sample_tw3.shape[0] - tw3_ctr) + \" were not admitted due to capacity limit.\")\n",
        "print(\"Total sales:\")\n",
        "print(item_ctr_dict)"
      ],
      "execution_count": null,
      "outputs": [
        {
          "output_type": "stream",
          "text": [
            "Available capacity at the beginning of TW3: 135\n",
            "Dring 3:00 - 6:00 (TW2): 135 were admitted, 739 were not admitted due to capacity limit.\n",
            "Total sales:\n",
            "{'BEER': 2151, 'NONALCOHOL': 2395, 'BURGER': 922, 'HOTDOG': 1005}\n"
          ],
          "name": "stdout"
        }
      ]
    },
    {
      "cell_type": "code",
      "metadata": {
        "colab": {
          "base_uri": "https://localhost:8080/"
        },
        "id": "qZ7Pn8HfaKei",
        "outputId": "f7523d54-f91f-4674-94c9-f9a1b76d4043"
      },
      "source": [
        "total_rev = (item_ctr_dict[\"BEER\"] + item_ctr_dict[\"BURGER\"])*3.5 + (item_ctr_dict[\"NONALCOHOL\"] + item_ctr_dict[\"HOTDOG\"])*1.5\n",
        "\n",
        "sample[\"REVENUE\"] = (sample[\"BEER\"] + sample[\"BURGER\"])*3.5 + (sample[\"NONALCOHOL\"] + sample[\"HOTDOG\"])*1.5\n",
        "\n",
        "\n",
        "sample[\"MODIFIED_REV\"] = sample[\"REVENUE\"] * (sample[\"TW1AD\"] + sample[\"TW2AD\"] + sample[\"TW3AD\"]) / (sample[\"TW1\"] + sample[\"TW2\"] + sample[\"TW3\"])\n",
        "modified_rev = sum(sample[\"MODIFIED_REV\"])\n",
        "print(\"Total visits: \" + str(sum(sample[\"TW1AD\"]) + sum(sample[\"TW2AD\"]) + sum(sample[\"TW3AD\"])))\n",
        "print(\"Total students admitted: \" + str(len(admit_list)))\n",
        "print(\"Total revenue: \" + str(total_rev))\n",
        "\n",
        "#Assume students make their purchase equally distributed to the time windows\n",
        "#they are admitted to.\n",
        "print(\"Modified total revenue: \" + str(modified_rev))\n"
      ],
      "execution_count": null,
      "outputs": [
        {
          "output_type": "stream",
          "text": [
            "Total visits: 1483\n",
            "Total students admitted: 891\n",
            "Total revenue: 15855.5\n",
            "Modified total revenue: 13576.75\n"
          ],
          "name": "stdout"
        }
      ]
    },
    {
      "cell_type": "code",
      "metadata": {
        "id": "CJGWAUqsfogP"
      },
      "source": [
        ""
      ],
      "execution_count": null,
      "outputs": []
    },
    {
      "cell_type": "markdown",
      "metadata": {
        "id": "rjYOAyXKk3Tf"
      },
      "source": [
        "### Model 1: Revenue Maximization\n",
        "\n",
        "Now we asssume we have the prior knowledge of their intended time windows, and aim to optimize the total revenue (modified).\n"
      ]
    },
    {
      "cell_type": "code",
      "metadata": {
        "id": "qGnPpKlXnJOK"
      },
      "source": [
        ""
      ],
      "execution_count": null,
      "outputs": []
    },
    {
      "cell_type": "markdown",
      "metadata": {
        "id": "yI490qMhk7EA"
      },
      "source": [
        "Notation:\n",
        "- $y_i$: binary variable whether student $i$ is admitted to the event\n",
        "- $x_{it}$: binary variable whether student $i$ is admitted to the event at time window $t$\n",
        "- $c_t$: number of students admitted at time window $t$\n",
        "\n",
        "- $p_{j}$: price of item $j$\n",
        "- $d_{ij}$: student $i$'s demand of item $j$\n",
        "\n",
        "- $C$: capacity (500)\n",
        "- $t$: time window index\n",
        "- $n$: number of interested students\n",
        "\n",
        "Objective:\n",
        "$$\\max  \\sum_{i} y_i ADJ\\_REV_i$$\n",
        "\n",
        "Constraints:\n",
        "\\begin{align*} \n",
        "y_i & > \\frac{1}{M}\\sum_{t} x_{it} \\hspace{1cm} i \\in \\{1, \\dots, n\\} \\\\\n",
        "c_t & \\le C\\\\\n",
        "\\end{align*}"
      ]
    },
    {
      "cell_type": "code",
      "metadata": {
        "id": "sGfMbdkInLGi"
      },
      "source": [
        ""
      ],
      "execution_count": null,
      "outputs": []
    },
    {
      "cell_type": "code",
      "metadata": {
        "id": "PF5oH_38nK1b"
      },
      "source": [
        "T = range(3)\n",
        "I = range(1500)\n",
        "M = 1996\n",
        "C = 500\n",
        "\n",
        "tw_dict = {0: np.array(sample[\"TW1\"]),\n",
        "           1: np.array(sample[\"TW2\"]),\n",
        "           2: np.array(sample[\"TW3\"])}"
      ],
      "execution_count": null,
      "outputs": []
    },
    {
      "cell_type": "code",
      "metadata": {
        "id": "NHlQCnvblxNb"
      },
      "source": [
        "# Define problem\n",
        "model1 = plp.LpProblem(\"Revenue_Maximization\", plp.LpMaximize)"
      ],
      "execution_count": null,
      "outputs": []
    },
    {
      "cell_type": "code",
      "metadata": {
        "id": "1hrcIjirmLUF"
      },
      "source": [
        "X = plp.LpVariable.dicts(name='X', indexs=(I,T), cat=plp.LpBinary)\n",
        "Y = plp.LpVariable.dicts(name='Y', indexs=(I), cat=plp.LpBinary)\n",
        "Z = plp.LpVariable.dicts(name='Z', indexs=(I))"
      ],
      "execution_count": null,
      "outputs": []
    },
    {
      "cell_type": "code",
      "metadata": {
        "id": "tUwLyADInhHp"
      },
      "source": [
        "#Maximize total revenue\n",
        "\n",
        "model1 += plp.lpSum(Z[i] * sample.iloc[i][\"REVENUE\"] for i in I)"
      ],
      "execution_count": null,
      "outputs": []
    },
    {
      "cell_type": "code",
      "metadata": {
        "id": "jpndfO5Qnpr3"
      },
      "source": [
        "for i in I:\n",
        "  model1 += M*Y[i] >= plp.lpSum(X[i][j] for j in T)\n",
        "  model1 += Y[i] <= plp.lpSum(X[i][j] for j in T)\n",
        "  model1 += Z[i] == plp.lpSum(X[i][j] for j in T) / sum([tw_dict[j][i] for j in range(3)])\n",
        "  for j in T:\n",
        "    #a student is admitted at a specific time window if only he/she intends so\n",
        "    model1 += X[i][j] <= tw_dict[j][i]\n",
        "\n",
        "#we cannot force admitted students to leave\n",
        "#if they intend to stay for the next time window\n",
        "\n",
        "for i in I:\n",
        "  model1 += X[i][1] >= X[i][0]*tw_dict[1][i]\n",
        "  model1 += X[i][2] >= X[i][1]*tw_dict[2][i]\n",
        "\n",
        "\n",
        "for j in T:\n",
        "  model1 += plp.lpSum(X[i][j] for i in I) <= C"
      ],
      "execution_count": null,
      "outputs": []
    },
    {
      "cell_type": "code",
      "metadata": {
        "colab": {
          "base_uri": "https://localhost:8080/"
        },
        "id": "rlzHGFygpG-B",
        "outputId": "7daf9ed8-4194-4dd7-e269-d60f0a759b45"
      },
      "source": [
        "model1.solve()"
      ],
      "execution_count": null,
      "outputs": [
        {
          "output_type": "execute_result",
          "data": {
            "text/plain": [
              "1"
            ]
          },
          "metadata": {
            "tags": []
          },
          "execution_count": 29
        }
      ]
    },
    {
      "cell_type": "code",
      "metadata": {
        "colab": {
          "base_uri": "https://localhost:8080/"
        },
        "id": "WyUvQmMBqPsF",
        "outputId": "b6bc5da3-443b-44aa-cbde-27cebf88c2c5"
      },
      "source": [
        "# The status of the solution is printed to the screen\n",
        "print(\"=\"*30,\"\\nSolution Status:\", plp.LpStatus[model1.status])\n",
        "\n",
        "# Results\n",
        "\n",
        "total_visit = 0\n",
        "for i in range(1500):\n",
        "  for j in range(3):\n",
        "    total_visit += X[i][j].varValue\n",
        "print(\"Total visits: \" + str(total_visit))\n",
        "\n",
        "total_student_admits = 0\n",
        "for i in range(1500):\n",
        "  total_student_admits += Y[i].varValue\n",
        "print(\"Total students admitted: \" + str(total_student_admits))\n",
        "\n",
        "obj = plp.value(model1.objective)\n",
        "print(\"Total revenue: \" + str(obj))"
      ],
      "execution_count": null,
      "outputs": [
        {
          "output_type": "stream",
          "text": [
            "============================== \n",
            "Solution Status: Optimal\n",
            "Total visits: 1393.0\n",
            "Total students admitted: 977.0\n",
            "Total revenue: 17804.75\n"
          ],
          "name": "stdout"
        }
      ]
    },
    {
      "cell_type": "code",
      "metadata": {
        "id": "2A1m_784wZhv"
      },
      "source": [
        "#For debug only\n",
        "# for i in range(50):\n",
        "#   print(sample.iloc[i][[\"TW1\",\"TW2\",\"TW3\"]])\n",
        "#   print(X[i][0].varValue, X[i][1].varValue,X[i][2].varValue,Y[i].varValue)"
      ],
      "execution_count": null,
      "outputs": []
    },
    {
      "cell_type": "markdown",
      "metadata": {
        "id": "4E85vPPPhmED"
      },
      "source": [
        "### Model 2: Attendance Maximization\n",
        "Now we asssume we have the prior knowledge of their intended time windows, and aim to admit as many different students as possible."
      ]
    },
    {
      "cell_type": "markdown",
      "metadata": {
        "id": "5qUo9pO4i0Sj"
      },
      "source": [
        "Notation:\n",
        "- $y_i$: binary variable whether student $i$ is admitted to the event\n",
        "- $x_{it}$: binary variable whether student $i$ is admitted to the event at time window $t$\n",
        "- $c_t$: number of students admitted at time window $t$\n",
        "- $C$: capacity (500)\n",
        "- $t$: time window index\n",
        "- $n$: number of interested students\n",
        "\n",
        "Objective:\n",
        "$$\\max \\sum_i y_i$$\n",
        "\n",
        "Constraints:\n",
        "\\begin{align*} \n",
        "y_i & > \\frac{1}{M}\\sum_{t} x_{it} \\hspace{1cm} i \\in \\{1, \\dots, n\\}\\\\\n",
        "c_t & \\le C\\\\\n",
        "\\end{align*}"
      ]
    },
    {
      "cell_type": "code",
      "metadata": {
        "colab": {
          "base_uri": "https://localhost:8080/"
        },
        "id": "h_2XqHdmhy4z",
        "outputId": "793b71a8-60c1-4195-f787-e3607932e09b"
      },
      "source": [
        "# Define problem\n",
        "model2 = plp.LpProblem(\"Attendance Maximization\", plp.LpMaximize)\n",
        "\n",
        "X = plp.LpVariable.dicts(name='X', indexs=(I,T), cat=plp.LpBinary)\n",
        "Y = plp.LpVariable.dicts(name='Y', indexs=(I), cat=plp.LpBinary)\n",
        "Z = plp.LpVariable.dicts(name='Z', indexs=(I))"
      ],
      "execution_count": null,
      "outputs": [
        {
          "output_type": "stream",
          "text": [
            "/usr/local/lib/python3.7/dist-packages/pulp/pulp.py:1199: UserWarning: Spaces are not permitted in the name. Converted to '_'\n",
            "  warnings.warn(\"Spaces are not permitted in the name. Converted to '_'\")\n"
          ],
          "name": "stderr"
        }
      ]
    },
    {
      "cell_type": "code",
      "metadata": {
        "id": "Vx7D4TF7tq4g"
      },
      "source": [
        "#Maximize total number of students admitted\n",
        "\n",
        "model2 += plp.lpSum(Y[i] for i in I)"
      ],
      "execution_count": null,
      "outputs": []
    },
    {
      "cell_type": "markdown",
      "metadata": {
        "id": "nNRuXcHj30Od"
      },
      "source": [
        ""
      ]
    },
    {
      "cell_type": "code",
      "metadata": {
        "id": "K-0_UkXStxe9"
      },
      "source": [
        "for i in I:\n",
        "  model2 += M*Y[i] >= plp.lpSum(X[i][j] for j in T)\n",
        "  model2 += Y[i] <= plp.lpSum(X[i][j] for j in T)\n",
        "  model2 += Z[i] == plp.lpSum(X[i][j] for j in T) / sum([tw_dict[j][i] for j in range(3)])\n",
        "\n",
        "  for j in T:\n",
        "    model2 += X[i][j] <= tw_dict[j][i]\n",
        "\n",
        "#we cannot force admitted students to leave\n",
        "#if they intend to stay for the next time window\n",
        "\n",
        "for i in I:\n",
        "  model2 += X[i][1] >= X[i][0]*tw_dict[1][i]\n",
        "  model2 += X[i][2] >= X[i][1]*tw_dict[2][i]\n",
        "\n",
        "for j in T:\n",
        "  model2 += plp.lpSum(X[i][j] for i in I) <= C"
      ],
      "execution_count": null,
      "outputs": []
    },
    {
      "cell_type": "code",
      "metadata": {
        "colab": {
          "base_uri": "https://localhost:8080/"
        },
        "id": "cIhSBb51txje",
        "outputId": "8424e22f-cb6c-49bd-90c8-8bbe5d537b1c"
      },
      "source": [
        "model2.solve()"
      ],
      "execution_count": null,
      "outputs": [
        {
          "output_type": "execute_result",
          "data": {
            "text/plain": [
              "1"
            ]
          },
          "metadata": {
            "tags": []
          },
          "execution_count": 50
        }
      ]
    },
    {
      "cell_type": "code",
      "metadata": {
        "colab": {
          "base_uri": "https://localhost:8080/"
        },
        "id": "3N6Hsb0mt2ik",
        "outputId": "03619dbc-d14f-4d0a-98ab-9d23dfbe3ed7"
      },
      "source": [
        "# The status of the solution is printed to the screen\n",
        "print(\"=\"*30,\"\\nSolution Status:\", plp.LpStatus[model2.status])\n",
        "\n",
        "total_visit = 0\n",
        "for i in range(1500):\n",
        "  for j in range(3):\n",
        "    total_visit += X[i][j].varValue\n",
        "print(\"Total visits: \" + str(total_visit))\n",
        "\n",
        "total_student_admits = 0\n",
        "for i in range(1500):\n",
        "  total_student_admits += Y[i].varValue\n",
        "print(\"Total students admitted: \" + str(total_student_admits))\n",
        "\n",
        "rev = 0\n",
        "for i in range(1500):\n",
        "  rev += Z[i].varValue * sample.iloc[i][\"REVENUE\"]\n",
        "print(\"Total revenue: \" + str(rev))"
      ],
      "execution_count": null,
      "outputs": [
        {
          "output_type": "stream",
          "text": [
            "============================== \n",
            "Solution Status: Optimal\n",
            "Total visits: 979.0\n",
            "Total students admitted: 979.0\n",
            "Total revenue: 14288.333332614997\n"
          ],
          "name": "stdout"
        }
      ]
    },
    {
      "cell_type": "markdown",
      "metadata": {
        "id": "7ggxfl8yBB-I"
      },
      "source": [
        "### We can see this objective forces each student to stay only for 1 time window."
      ]
    },
    {
      "cell_type": "markdown",
      "metadata": {
        "id": "Q7htzZGoBdtg"
      },
      "source": [
        "### Model 3: Multi-objective\n",
        "Now we asssume we have the prior knowledge of their intended time windows, and aim to admit as many different students as possible, while maintaining 90% of the optimal revenue ($\\epsilon$) in Model 2."
      ]
    },
    {
      "cell_type": "markdown",
      "metadata": {
        "id": "bI4xtFlNBi5p"
      },
      "source": [
        "Notation:\n",
        "- $y_i$: binary variable whether student $i$ is admitted to the event\n",
        "- $x_{it}$: binary variable whether student $i$ is admitted to the event at time window $t$\n",
        "- $c_t$: number of students admitted at time window $t$\n",
        "- $C$: capacity (500)\n",
        "- $t$: time window index\n",
        "- $n$: number of interested students\n",
        "\n",
        "Objective:\n",
        "$$\\max \\sum_{i} y_i $$\n",
        "\n",
        "Constraints:\n",
        "\\begin{align*} \n",
        "\\sum_{j}  \\sum_{i} y_i ADJ\\_REV_{i} & \\ge 0.9\\epsilon\\\\\n",
        "y_i & > \\frac{1}{M}\\sum_{t} x_{it} \\hspace{1cm} i \\in \\{1, \\dots, n\\}\\\\\n",
        "c_t & \\le C\\\\\n",
        "\\end{align*}"
      ]
    },
    {
      "cell_type": "code",
      "metadata": {
        "colab": {
          "base_uri": "https://localhost:8080/"
        },
        "id": "b-Ulv1B_DQLt",
        "outputId": "9e378d0d-f1ef-4a2b-a309-3d534982c9cf"
      },
      "source": [
        "# Define problem\n",
        "model3 = plp.LpProblem(\"Attendance Maximization\", plp.LpMaximize)\n",
        "\n",
        "X = plp.LpVariable.dicts(name='X', indexs=(I,T), cat=plp.LpBinary)\n",
        "Y = plp.LpVariable.dicts(name='Y', indexs=(I), cat=plp.LpBinary)\n",
        "Z = plp.LpVariable.dicts(name='Z', indexs=(I))"
      ],
      "execution_count": null,
      "outputs": [
        {
          "output_type": "stream",
          "text": [
            "/usr/local/lib/python3.7/dist-packages/pulp/pulp.py:1199: UserWarning: Spaces are not permitted in the name. Converted to '_'\n",
            "  warnings.warn(\"Spaces are not permitted in the name. Converted to '_'\")\n"
          ],
          "name": "stderr"
        }
      ]
    },
    {
      "cell_type": "code",
      "metadata": {
        "id": "kHiGvruKCyXo"
      },
      "source": [
        "#Maximize total number of students admitted\n",
        "\n",
        "model3 += plp.lpSum(Y[i] for i in I)"
      ],
      "execution_count": null,
      "outputs": []
    },
    {
      "cell_type": "code",
      "metadata": {
        "id": "dOOLM6E0Cl3a"
      },
      "source": [
        "\n",
        "\n",
        "for i in I:\n",
        "  model3 += M*Y[i] >= plp.lpSum(X[i][j] for j in T)\n",
        "  model3 += Y[i] <= plp.lpSum(X[i][j] for j in T)\n",
        "  model3 += Z[i] == plp.lpSum(X[i][j] for j in T) / sum([tw_dict[j][i] for j in range(3)])\n",
        "\n",
        "  for j in T:\n",
        "    model3 += X[i][j] <= tw_dict[j][i]\n",
        "\n",
        "#we cannot force admitted students to leave\n",
        "#if they intend to stay for the next time window\n",
        "\n",
        "for i in I:\n",
        "  model3 += X[i][1] >= X[i][0]*tw_dict[1][i]\n",
        "  model3 += X[i][2] >= X[i][1]*tw_dict[2][i]\n",
        "\n",
        "for j in T:\n",
        "  model3 += plp.lpSum(X[i][j] for i in I) <= C\n",
        "\n",
        "model3 += plp.lpSum(Z[i] * sample.iloc[i][\"REVENUE\"] for i in I) >= 0.9 * plp.value(model1.objective)"
      ],
      "execution_count": null,
      "outputs": []
    },
    {
      "cell_type": "code",
      "metadata": {
        "colab": {
          "base_uri": "https://localhost:8080/"
        },
        "id": "TeZbfeayDNkM",
        "outputId": "a3dcdd80-278b-427a-c3cb-42f58abef424"
      },
      "source": [
        "model3.solve()"
      ],
      "execution_count": null,
      "outputs": [
        {
          "output_type": "execute_result",
          "data": {
            "text/plain": [
              "1"
            ]
          },
          "metadata": {
            "tags": []
          },
          "execution_count": 40
        }
      ]
    },
    {
      "cell_type": "code",
      "metadata": {
        "colab": {
          "base_uri": "https://localhost:8080/"
        },
        "id": "8NHYDBrqDSu2",
        "outputId": "a080d505-8eda-4c60-cbbb-4411e19984f6"
      },
      "source": [
        "# The status of the solution is printed to the screen\n",
        "print(\"=\"*30,\"\\nSolution Status:\", plp.LpStatus[model3.status])\n",
        "\n",
        "total_visit = 0\n",
        "for i in range(1500):\n",
        "  for j in range(3):\n",
        "    total_visit += X[i][j].varValue\n",
        "print(\"Total visits: \" + str(total_visit))\n",
        "\n",
        "total_student_admits = 0\n",
        "for i in range(1500):\n",
        "  total_student_admits += Y[i].varValue\n",
        "print(\"Total students admitted: \" + str(total_student_admits))\n",
        "\n",
        "rev = 0\n",
        "for i in range(1500):\n",
        "  rev += Z[i].varValue * sample.iloc[i][\"REVENUE\"]\n",
        "print(\"Total revenue: \" + str(rev))"
      ],
      "execution_count": null,
      "outputs": [
        {
          "output_type": "stream",
          "text": [
            "============================== \n",
            "Solution Status: Optimal\n",
            "Total visits: 1441.0\n",
            "Total students admitted: 979.0\n",
            "Total revenue: 16526.5\n"
          ],
          "name": "stdout"
        }
      ]
    },
    {
      "cell_type": "code",
      "metadata": {
        "id": "yMUbZWSeDWfG"
      },
      "source": [
        ""
      ],
      "execution_count": null,
      "outputs": []
    }
  ]
}